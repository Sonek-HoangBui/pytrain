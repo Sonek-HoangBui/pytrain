{
 "cells": [
  {
   "cell_type": "code",
   "execution_count": 8,
   "source": [
    "import sys\n",
    "\n",
    "class CustomException(Exception):\n",
    "    \"Custom exception\"\n",
    "    pass\n",
    "\n",
    "class CustomException1(Exception):\n",
    "    \"Custom exception 1\"\n",
    "\n",
    "try:\n",
    "    print('Error')\n",
    "    a = 1\n",
    "    b = 0\n",
    "    if b == 0:\n",
    "        raise CustomException1('b phải là một số khác 0')\n",
    "\n",
    "    print('a')\n",
    "    print('b')\n",
    "except CustomException as e:\n",
    "    print('___custom exception___')\n",
    "except Exception as e:\n",
    "    print('Print exception')\n",
    "finally:\n",
    "    print('finally')"
   ],
   "outputs": [
    {
     "output_type": "stream",
     "name": "stdout",
     "text": [
      "Error\n",
      "Print exception\n",
      "finally\n"
     ]
    }
   ],
   "metadata": {}
  }
 ],
 "metadata": {
  "orig_nbformat": 4,
  "language_info": {
   "name": "python",
   "version": "3.10.4",
   "mimetype": "text/x-python",
   "codemirror_mode": {
    "name": "ipython",
    "version": 3
   },
   "pygments_lexer": "ipython3",
   "nbconvert_exporter": "python",
   "file_extension": ".py"
  },
  "kernelspec": {
   "name": "python3",
   "display_name": "Python 3.10.4 64-bit"
  },
  "interpreter": {
   "hash": "aee8b7b246df8f9039afb4144a1f6fd8d2ca17a180786b69acc140d282b71a49"
  }
 },
 "nbformat": 4,
 "nbformat_minor": 2
}